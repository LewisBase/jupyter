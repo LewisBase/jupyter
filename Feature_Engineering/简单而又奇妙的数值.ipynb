{
 "cells": [
  {
   "cell_type": "markdown",
   "metadata": {},
   "source": [
    "# 数值型特征加工方法\n",
    "## 计数\n",
    "* 二值化\n",
    "* 分箱\n",
    "## 变换\n",
    "* 对/指数变换\n",
    "* Box-Cox变换：$$\\tilde{x}=\\left\\{\\begin{aligned}\n",
    "\\frac{x^{\\lambda} -1}{\\lambda}&(\\lambda \\ne 0 ) \\\\\n",
    "ln(x)&(\\lambda = 0 )\\\\\n",
    "\\end{aligned}\n",
    "\\right.$$\n",
    "## 缩放/归一\n",
    "* min-max\n",
    "* 标准化\n",
    "* $l^2$归一化"
   ]
  },
  {
   "cell_type": "code",
   "execution_count": null,
   "metadata": {},
   "outputs": [],
   "source": []
  }
 ],
 "metadata": {
  "kernelspec": {
   "display_name": "Python 3",
   "language": "python",
   "name": "python3"
  },
  "language_info": {
   "codemirror_mode": {
    "name": "ipython",
    "version": 3
   },
   "file_extension": ".py",
   "mimetype": "text/x-python",
   "name": "python",
   "nbconvert_exporter": "python",
   "pygments_lexer": "ipython3",
   "version": "3.7.1"
  },
  "toc": {
   "base_numbering": 1,
   "nav_menu": {},
   "number_sections": true,
   "sideBar": true,
   "skip_h1_title": false,
   "title_cell": "Table of Contents",
   "title_sidebar": "Contents",
   "toc_cell": false,
   "toc_position": {},
   "toc_section_display": true,
   "toc_window_display": false
  }
 },
 "nbformat": 4,
 "nbformat_minor": 2
}
