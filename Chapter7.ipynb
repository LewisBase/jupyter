{
 "cells": [
  {
   "cell_type": "markdown",
   "metadata": {},
   "source": [
    "# 综合不同模型的组合学习\n",
    "\n",
    "本章内容主要涵盖下述几个方面：\n",
    "* 以多数票机制为基础做出预测\n",
    "* 使用套袋通过反复从训练集可重复地随即抽取样本组合减少过拟合\n",
    "* 利用激励，在从错误中学习地若学习者的基础上建立强大的模型"
   ]
  },
  {
   "cell_type": "markdown",
   "metadata": {},
   "source": [
    "## 集成学习\n",
    "\n",
    "__集成学习__的目标是组合不同的分类器，形成比单个分类器具有更好泛化性能的元分类器。\n",
    "\n",
    "本章将集中讨论最常见的基与__多数票机制__的集成方法。\n",
    "\n",
    "为了通过简单的多数票或相对多数票投票机制预测分类标签，可以把每个单独的分类器$C_j$预测的分类标签组合起来，然后选择分类标签$\\hat{y}$，从而得到的票做多的标签：\n",
    "\n",
    "$$\\hat{y}=mode{C_1(x),C_2(x),\\ldots,C_m(x)}$$\n",
    "\n",
    "假设所有$n$个基本分类器所面对的都是二元分类任务，错误率$\\varepsilon$相同。另外，假设分类器都是独立的而且错误率互不相干。在这些假设条件下，可以直接把基本分类器集成的错误率表达为二项式分布的概率质量函数：\n",
    "\n",
    "$$P(y\\ge k)=\\sum_k^n C_k^n \\varepsilon^k (1-\\varepsilon)^{n-k}=\\varepsilon_{ensemble}$$"
   ]
  },
  {
   "cell_type": "code",
   "execution_count": 5,
   "metadata": {},
   "outputs": [
    {
     "data": {
      "text/plain": [
       "0.03432750701904297"
      ]
     },
     "execution_count": 5,
     "metadata": {},
     "output_type": "execute_result"
    }
   ],
   "source": [
    "from scipy.special import comb\n",
    "import math\n",
    "def ensemble_error(n_classifier, error):\n",
    "    k_start = int(math.ceil(n_classifier / 2.))\n",
    "    probs = [comb(n_classifier,k) * \n",
    "             error**k * \n",
    "             (1-error)**(n_classifier - k)\n",
    "             for k in range(k_start, n_classifier+1)]\n",
    "    return sum(probs)\n",
    "\n",
    "ensemble_error(n_classifier=11, error=0.25)"
   ]
  },
  {
   "cell_type": "markdown",
   "metadata": {},
   "source": [
    "在实现了ensemble_error函数后，可以计算从0.0到1.0的范围内内的不同集成错误率，并绘图。\n",
    "\n",
    "只要基本分类器的性能优于随机猜想（$\\varepsilon < 0.5$），集成分类器的错误率总是比单一基本分类器的错误率要低。"
   ]
  },
  {
   "cell_type": "code",
   "execution_count": 6,
   "metadata": {},
   "outputs": [
    {
     "data": {
      "image/png": "[encoded data removed]",
      "text/plain": [
       "<Figure size 432x288 with 1 Axes>"
      ]
     },
     "metadata": {
      "needs_background": "light"
     },
     "output_type": "display_data"
    }
   ],
   "source": [
    "%matplotlib inline\n",
    "import numpy as np\n",
    "import matplotlib.pyplot as plt\n",
    "error_range = np.arange(0.0,1.01,0.01)\n",
    "ens_error = [ensemble_error(n_classifier=11,error=error)\n",
    "             for error in error_range]\n",
    "plt.plot(error_range,ens_error,\n",
    "         label='Ensemble error',\n",
    "         linewidth=2)\n",
    "plt.plot(error_range,error_range,\n",
    "         linestyle='--',label='Base error',\n",
    "         linewidth=2)\n",
    "plt.xlabel('Base error')\n",
    "plt.ylabel('Base/Ensemble error')\n",
    "plt.legend(loc='upper left')\n",
    "plt.grid(alpha=0.5)\n",
    "plt.show()"
   ]
  },
  {
   "cell_type": "markdown",
   "metadata": {},
   "source": [
    "## 采用多数票机制的集成分类器\n",
    "\n",
    "### 实现基于多数票的简单分类器\n",
    "\n",
    "本节将要实现的算法可以把不同的分类算法及其各自相应的权重组合起来。目标是建立一个更强大的超级分类器，以平衡单个分类器在特定数据集上的弱点。可以利用更精确的数学语言把加权多数票的逻辑表示如下：\n",
    "\n",
    "$$\\hat{y}=\\arg \\max\\limits_i \\sum_{j=1}^m w_j \\chi_A(C_j(x)=i)$$\n",
    "\n",
    "这里$w_j$是与基本分类器$C_j$相关的权重，$\\hat{y}$是分类标签的预测结果，$\\chi_A$是特性函数$[C_j(x)=i \\in A]$，$A$为独立分类标签的集合。对于相同权重，可以把该方程简化为：\n",
    "\n",
    "$$\\hat{y}=mode {C_1(x),C_2(x),\\ldots,C_m(x)}$$\n",
    "\n",
    "可以用Numpy的argmax和bincount函数将加权大多数票概念翻译成Python代码"
   ]
  },
  {
   "cell_type": "code",
   "execution_count": 7,
   "metadata": {},
   "outputs": [
    {
     "data": {
      "text/plain": [
       "1"
      ]
     },
     "execution_count": 7,
     "metadata": {},
     "output_type": "execute_result"
    }
   ],
   "source": [
    "import numpy as np\n",
    "np.argmax(np.bincount([0,0,1],\n",
    "          weights=[0.2,0.2,0.6]))"
   ]
  },
  {
   "cell_type": "markdown",
   "metadata": {},
   "source": [
    "如果集成分类预测的够准确，用预测的分类概率代替分类标签进行大多数票表决是有用的。\n",
    "\n",
    "$$\\hat{y}=\\arg\\max\\limits_i\\sum_{j=1}^mw_jp_{ij}$$\n",
    "\n",
    "这里，$p_{ij}$为第$j$个分类器对分类标签$i$预测的概率。"
   ]
  },
  {
   "cell_type": "code",
   "execution_count": 8,
   "metadata": {},
   "outputs": [
    {
     "data": {
      "text/plain": [
       "0"
      ]
     },
     "execution_count": 8,
     "metadata": {},
     "output_type": "execute_result"
    }
   ],
   "source": [
    "ex = np.array([[0.9,0.1],\n",
    "               [0.8,0.2],\n",
    "               [0.4,0.6]])\n",
    "p = np.average(ex,axis=0,weights=[0.2,0.2,0.6])\n",
    "p\n",
    "np.argmax(p)"
   ]
  },
  {
   "cell_type": "code",
   "execution_count": 9,
   "metadata": {},
   "outputs": [],
   "source": [
    "from sklearn.base import BaseEstimator\n",
    "from sklearn.base import ClassifierMixin\n",
    "from sklearn.preprocessing import LabelEncoder\n",
    "from sklearn.externals import six\n",
    "from sklearn.base import clone\n",
    "from sklearn.pipeline import _name_estimators\n",
    "import numpy as np\n",
    "import operator\n",
    "\n",
    "class MajorityVoteClassifier(BaseEstimator,\n",
    "                              ClassifierMixin):\n",
    "    \"\"\" A majority vote ensemble classifier\n",
    "    \n",
    "    Parameters\n",
    "    ----------\n",
    "    classifiers : array-like, shape = [n_classifiers]\n",
    "        Different classifiers for the ensemble\n",
    "    vote : str, {'classlabel','probability'}\n",
    "        Default: 'classlabel'\n",
    "        If 'classlabel' the prediction is based on\n",
    "        the argmax of class labels. Else if\n",
    "        'probability', the argmax of the sum of\n",
    "        probability is used to predict the class label\n",
    "        (recommended for calibrated classifiers).\n",
    "    weights : array-like, shape = [n_classifiers]\n",
    "        Optional, default: None\n",
    "        If a list if 'int' or 'float' values are\n",
    "        provided, the classifiers are weighted by\n",
    "        importance; Uses uniform weights if 'weights=None'.\n",
    "    \"\"\"\n",
    "    def __init__(self,classifiers,\n",
    "                  vote='classlabel',weights=None):\n",
    "        self.classifiers = classifiers\n",
    "        self.named_classifiers = {key: value for\n",
    "                                  key, value in\n",
    "                                  _name_estimators(classifiers)}\n",
    "        self.vote = vote\n",
    "        self.weights = weights\n",
    "        \n",
    "    def fit(self,X,y):\n",
    "        \"\"\"Fit classifiers.\n",
    "        \n",
    "        Parameters\n",
    "        ----------\n",
    "        X : {array-like, spares matrix},\n",
    "            shape = [n_samples, n_features]\n",
    "            Matrix of training samples.\n",
    "        y : array-like, shape = [n_features]\n",
    "            Vecor of target class labels.\n",
    "            \n",
    "        Returns\n",
    "        ----------\n",
    "        self : object\n",
    "        \"\"\" \n",
    "        # Use LabelEncoder to ensure class labels start\n",
    "        # with 0, which is important for np.argmax\n",
    "        # call in self.predict\n",
    "        self.lablenc_ = LabelEncoder()\n",
    "        self.lablenc_.fit(y)\n",
    "        self.classes_ = self.lablenc_.classes_\n",
    "        self.classifiers_ = []\n",
    "        for clf in self.classifiers:\n",
    "            fitted_clf = clone(clf).fit(X,\n",
    "                                self.lablenc_.transform(y))\n",
    "            self.classifiers_.append(fitted_clf)\n",
    "        return self\n",
    "    \n",
    "    def predict(self,X):\n",
    "        \"\"\" Predict class labels for X.\n",
    "        \n",
    "        Parameters\n",
    "        ----------\n",
    "        X : {array-like, sparse matrix},\n",
    "            Shape = [n_samples, n_features]\n",
    "            Matrix of training samples.\n",
    "        \n",
    "        Returns\n",
    "        ----------\n",
    "        maj_vote : array-like, shape = [n_samples]\n",
    "            Predicted class labels.\n",
    "        \"\"\"\n",
    "        if self.vote == 'probability':\n",
    "            maj_vote = np.argmax(self.predic_proba(X),\n",
    "                                 axis=1)\n",
    "        else: # 'classlabel' vote\n",
    "            # Collect results from clf.predict calls\n",
    "            predictions = np.asarray([clf.predice(X)\n",
    "                                      for clf in\n",
    "                                      self.classifiers_]).T\n",
    "            maj_vote = np.apply_along_axis(\n",
    "                        lambda x:\n",
    "                        np.argmax(np.bincount(x,\n",
    "                                  weights=self.weights)),\n",
    "                        axis=1,\n",
    "                        arr=predictions)\n",
    "        maj_vote = self.lablenc_.inverse_transform(maj_vote)\n",
    "        return maj_vote\n",
    "    \n",
    "    def predict_proba(self,X):\n",
    "        \"\"\" Predict class probabilities for X.\n",
    "        \n",
    "        Parameters\n",
    "        ----------\n",
    "        X : {array-like, sparese matrix},\n",
    "            shape = {n_samples, n_features}\n",
    "            Training vectors, where n_samples is\n",
    "            the number of samples and\n",
    "            n_features is the number of features.\n",
    "            \n",
    "        Returns\n",
    "        ----------\n",
    "        avg_proba : array-like,\n",
    "            shape = [n_samples, n_classes]\n",
    "            Weighted average probability for\n",
    "            each class per sample.\n",
    "        \"\"\"\n",
    "        probas = np.asarray([clf.predict_proba(X)\n",
    "                             for clf in self.classifiers_])\n",
    "        avg_proba = np.average(probas,\n",
    "                               axis=0,weights=self.weights)\n",
    "        return avg_proba\n",
    "    \n",
    "    def get_params(self,deep=True):\n",
    "        \"\"\"Get classifier parameteer names for GridSearch\"\"\"\n",
    "        if not deep:\n",
    "            return super(MajorityVoteClassifier,\n",
    "                          self).get_params(deep=False)\n",
    "        else:\n",
    "            out = self.named_classifiers.copy()\n",
    "            for name, step in\\\n",
    "                    six.iteritems(self.named_classifiers):\n",
    "                for key, value in six.iteritems(\n",
    "                    step.get_params(deep=True)):\n",
    "                    out['%s_%s' % (name,key)] = value\n",
    "        return out"
   ]
  },
  {
   "cell_type": "markdown",
   "metadata": {},
   "source": [
    "这里定义了我们自己修改后的get_params方法来使用_name_estimators函数访问集成分类器中每个成员分类器的参数。这可能看似复杂，但却特别有用。特别是在以后的章节中用网格搜索寻找调优的超参数时。"
   ]
  },
  {
   "cell_type": "markdown",
   "metadata": {},
   "source": [
    "### 用多数票原则进行预测"
   ]
  },
  {
   "cell_type": "code",
   "execution_count": 11,
   "metadata": {},
   "outputs": [],
   "source": [
    "from sklearn import datasets\n",
    "from sklearn.model_selection import train_test_split\n",
    "from sklearn.preprocessing import StandardScaler\n",
    "from sklearn.preprocessing import LabelEncoder\n",
    "iris = datasets.load_iris()\n",
    "X,y = iris.data[50:,[1,2]],iris.target[50:]\n",
    "le = LabelEncoder()\n",
    "y = le.fit_transform(y)\n",
    "\n",
    "X_train,X_test,y_train,y_test = \\\n",
    "        train_test_split(X,y,\n",
    "                         test_size=0.5,\n",
    "                         random_state=1,\n",
    "                         stratify=y)"
   ]
  },
  {
   "cell_type": "markdown",
   "metadata": {},
   "source": [
    "现在将使用训练集训练三种不同分类器：\n",
    "* 逻辑回归分类器\n",
    "* 决策树分类器\n",
    "* k-近邻分类器\n",
    "\n",
    "在将它们构建成分类器之前，先通过对训练集进行10次交叉验证以评估每个分类器模型的性能"
   ]
  },
  {
   "cell_type": "code",
   "execution_count": 13,
   "metadata": {},
   "outputs": [
    {
     "name": "stdout",
     "output_type": "stream",
     "text": [
      "10-fold cross validation:\n",
      "\n",
      "ROC AUC: 0.87 (+/- 0.17) [Logistic regression]\n",
      "ROC AUC: 0.89 (+/- 0.16) [Decision tree]\n",
      "ROC AUC: 0.88 (+/- 0.15) [KNN]\n"
     ]
    }
   ],
   "source": [
    "from sklearn.model_selection import cross_val_score\n",
    "from sklearn.linear_model import LogisticRegression\n",
    "from sklearn.tree import DecisionTreeClassifier\n",
    "from sklearn.neighbors import KNeighborsClassifier\n",
    "from sklearn.pipeline import Pipeline\n",
    "import numpy as np\n",
    "\n",
    "clf1 = LogisticRegression(penalty='l2',\n",
    "                          C=0.001,\n",
    "                          solver='lbfgs',\n",
    "                          random_state=1)\n",
    "clf2 = DecisionTreeClassifier(max_depth=1,\n",
    "                              criterion='entropy',\n",
    "                              random_state=0)\n",
    "clf3 = KNeighborsClassifier(n_neighbors=1,\n",
    "                            p=2,\n",
    "                            metric='minkowski')\n",
    "\n",
    "pipe1 = Pipeline([['sc',StandardScaler()],\n",
    "                  ['clf',clf1]])\n",
    "pipe3 = Pipeline([['sc',StandardScaler()],\n",
    "                  ['clf',clf3]])\n",
    "clf_labels = ['Logistic regression','Decision tree','KNN']\n",
    "print('10-fold cross validation:\\n')\n",
    "for clf, label in zip([pipe1,clf2,pipe3],clf_labels):\n",
    "    scores = cross_val_score(estimator=clf,\n",
    "                             X=X_train,\n",
    "                             y=y_train,\n",
    "                             cv=10,\n",
    "                             scoring='roc_auc')\n",
    "    print('ROC AUC: %0.2f (+/- %0.2f) [%s]'\n",
    "          % (scores.mean(),scores.std(),label))"
   ]
  },
  {
   "cell_type": "markdown",
   "metadata": {},
   "source": [
    "与决策树相比，逻辑回归和k近邻算法都是比例尺度可变的，采用标准化特征是一个好习惯。\n",
    "\n",
    "现在开始更精彩的部分，在MajorityVoteClassifier类中集成独立的分类器进行多数票决策"
   ]
  },
  {
   "cell_type": "code",
   "execution_count": 14,
   "metadata": {},
   "outputs": [
    {
     "name": "stdout",
     "output_type": "stream",
     "text": [
      "Accuracy: 0.87 (+/- 0.17) [Logistic regression]\n",
      "Accuracy: 0.89 (+/- 0.16) [Decision tree]\n",
      "Accuracy: 0.88 (+/- 0.15) [KNN]\n",
      "Accuracy: 0.94 (+/- 0.13) [Majority voting]\n"
     ]
    }
   ],
   "source": [
    "mv_clf = MajorityVoteClassifier(\n",
    "                classifiers=[pipe1,clf2,pipe3])\n",
    "clf_labels += ['Majority voting']\n",
    "all_clf = [pipe1,clf2,pipe3,mv_clf]\n",
    "for clf, label in zip(all_clf,clf_labels):\n",
    "    scores = cross_val_score(estimator=clf,\n",
    "                             X=X_train,\n",
    "                             y=y_train,\n",
    "                             cv=10,\n",
    "                             scoring='roc_auc')\n",
    "    print('Accuracy: %0.2f (+/- %0.2f) [%s]'\n",
    "              % (scores.mean(),scores.std(),label))"
   ]
  },
  {
   "cell_type": "code",
   "execution_count": null,
   "metadata": {},
   "outputs": [],
   "source": []
  }
 ],
 "metadata": {
  "kernelspec": {
   "display_name": "Python 3",
   "language": "python",
   "name": "python3"
  },
  "language_info": {
   "codemirror_mode": {
    "name": "ipython",
    "version": 3
   },
   "file_extension": ".py",
   "mimetype": "text/x-python",
   "name": "python",
   "nbconvert_exporter": "python",
   "pygments_lexer": "ipython3",
   "version": "3.7.1"
  },
  "toc": {
   "base_numbering": 1,
   "nav_menu": {},
   "number_sections": true,
   "sideBar": true,
   "skip_h1_title": false,
   "title_cell": "Table of Contents",
   "title_sidebar": "Contents",
   "toc_cell": false,
   "toc_position": {},
   "toc_section_display": true,
   "toc_window_display": true
  }
 },
 "nbformat": 4,
 "nbformat_minor": 2
}
