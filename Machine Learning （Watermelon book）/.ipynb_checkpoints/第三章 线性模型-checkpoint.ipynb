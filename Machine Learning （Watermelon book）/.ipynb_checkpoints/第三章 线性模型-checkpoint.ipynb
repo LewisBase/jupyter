{
 "cells": [
  {
   "cell_type": "markdown",
   "metadata": {},
   "source": [
    "# 线性模型\n",
    "\n",
    "## 基本形式\n",
    "\n",
    "给定由__d__个属性描述的示例$x=(x_1;x_2;...;x_d)$，其中$x_i$是$x$在第$i$个属性上的取值，线性模型(linear model)试图学得一个通过属性的线性组合来进行预测的函数，即\n",
    "\n",
    "$$f(x)=w_1x_1+w_2x_2+...+w_dx_d+b$$\n",
    "\n",
    "一般用向量形式写成\n",
    "\n",
    "$$f(x)=w^Tx+b$$\n",
    "\n",
    "许多功能更为强大的非线性模型(nonlinear model)可在线性模型的基础上通过引入层级结构或高维映射而得。"
   ]
  },
  {
   "cell_type": "markdown",
   "metadata": {},
   "source": [
    "## 线性回归\n",
    "\n",
    "线性回归试图学得：\n",
    "\n",
    "$$f(x_i)=wx_i+b,使得f(x_i)\\simeq y_i$$\n",
    "\n",
    "均方误差时回归任务中最常用得性能度量，因此我们可试图让均方误差最小化\n",
    "\n",
    "$$ (w^*,b^*)=\\mathop{argmin}\\limits_{(w,b)}\\sum_{i=1}^{m}(f(x_i)-y_i)^2\\\\\n",
    "=\\mathop{argmin}\\limits_{(w,b)}\\sum_{i=1}^{m}(y_i-wx_i-b)^2$$\n",
    "\n",
    "均方误差油非常好的几何意义，它对应了常用的欧几里得距离。基与均方误差最小化来进行模型求解的方法称为最小二乘法。在线性回归中，最小二乘法就是试图找到一条直线，是所有样本到直线上的欧氏距离之和最小。\n",
    "\n",
    "求解$w$和$b$使$E_{(w,b)}=\\sim_{i=1}^{m}(y_i-wx_i-b)^2$最小化的过程，称为线性回归模型的最小二乘参数估计，可将$E_{(w,b)}$分别对$w$和$b$求导，得到\n",
    "\n",
    "$$\\frac{\\partial{E_{(w,b)}}}{\\partial{w}}=2\\lgroup w\\sum_{i=1}^{m}x_i^2-\\sum_{i=1}^{m}(y_i-b)x_i\\rgroup$$\n",
    "\n",
    "$$\\frac{\\partial{E_{(w,b)}}}{\\partial{b}}=2(mb-\\sum_{i=1}^{m}(y_i-wx_i))$$\n",
    "\n",
    "然后零上两式为零可得到$w$和$b$最优解的闭式解\n",
    "\n",
    "$$w=\\frac{\\sum_{i=1}^{m}y_i(x_i-\\bar x)}{\\sum_{i=1}^{m}x_i^2-\\frac{1}{m}(\\sum_{i=1}^{m}x_i)^2}$$\n",
    "\n",
    "$$b=\\frac{1}{m}\\sum_{i=1}^{m}(y_i-wx_i)$$\n",
    "\n",
    "其中$\\bar x=\\frac{1}{m}\\sum_{i=1}^{m}x_i$为$x$的均值。\n",
    "\n",
    "更一般的情形是如本节开头的数据集$D$，样本由$d$个属性描述。此时我们试图学得\n",
    "\n",
    "$$f(\\textbf{x}_i)=\\textbf{w}^T\\textbf{x}_i+b_i,使得f(\\textbf{x}_i)\\simeq y_i$$\n",
    "\n",
    "这成为\"多元线性回归\"(multivariate linear regression)\n",
    "\n",
    "类似的，可利用最小二乘法来对$w$和$b$进行估计，为便于讨论，我们把$w$和$b$吸收入向量形式$\\hat w=(w;b)$，相应的，把数据集D表示为一个$m\\times(d+1)$大小得矩阵$X$，其中每行对应一个示例，该行前$d$个元素对应示例得$d$个属性值，最后一个元素恒置为1，即\n",
    "\n",
    "$$X=\\begin{pmatrix}x_{11}&x_{12}&\\cdots&x_{1d}&1\\\\x_{21}&x_{22}&\\cdots&x_{2d}&1\\\\\\vdots&\\vdots&\\ddots&\\vdots&\\vdots\\\\x_{m1}&x_{m2}&\\cdots&x_{md}&1\\end{pmatrix}=\\begin{pmatrix}x_1^T&1\\\\x_2^T&1\\\\\\vdots&\\vdots\\\\x_m^T&1\\end{pmatrix}$$\n",
    "\n",
    "再把标记也写成向量形式$\\textbf y=(y_1;y_2;\\ldots;y_m)$，则有\n",
    "\n",
    "$$\\hat{w}^*=\\mathop{argmin}\\limits_{\\hat{w}}(\\textbf y-\\textbf X\\hat{w})^T(\\textbf y-\\textbf X\\hat{w})$$\n",
    "\n",
    "令$E_{\\hat{w}}=(\\textbf y-\\textbf X \\hat{w})^T(\\textbf y-\\textbf X \\hat{w})$，对$\\hat{w}$求导得到"
   ]
  },
  {
   "cell_type": "code",
   "execution_count": null,
   "metadata": {},
   "outputs": [],
   "source": []
  }
 ],
 "metadata": {
  "kernelspec": {
   "display_name": "Python 3",
   "language": "python",
   "name": "python3"
  },
  "language_info": {
   "codemirror_mode": {
    "name": "ipython",
    "version": 3
   },
   "file_extension": ".py",
   "mimetype": "text/x-python",
   "name": "python",
   "nbconvert_exporter": "python",
   "pygments_lexer": "ipython3",
   "version": "3.7.4"
  },
  "toc": {
   "base_numbering": 1,
   "nav_menu": {},
   "number_sections": true,
   "sideBar": true,
   "skip_h1_title": false,
   "title_cell": "Table of Contents",
   "title_sidebar": "Contents",
   "toc_cell": false,
   "toc_position": {},
   "toc_section_display": true,
   "toc_window_display": false
  }
 },
 "nbformat": 4,
 "nbformat_minor": 2
}
