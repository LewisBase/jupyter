{
 "cells": [
  {
   "attachments": {},
   "cell_type": "markdown",
   "metadata": {},
   "source": [
    "# 高级得深度学习最佳实践\n",
    "\n",
    "## 不用Sequential模型的解决方案：Keras函数是API\n",
    "\n",
    "Sequrntial模型假设网络只有一个输入和一个输出，而且网络是层的线性堆叠，这是一个经过普遍验证的假设。\n",
    "\n",
    "有些网络需要多个独立的输入，有些网络则需要多个输出，而有些网络在层与层之间具有内部分支，这使得网络看起来像是层构成的**图(graph)**，而不是线性堆叠。\n",
    "\n",
    "### 函数式API简介"
   ]
  },
  {
   "cell_type": "code",
   "execution_count": 2,
   "metadata": {},
   "outputs": [
    {
     "name": "stderr",
     "output_type": "stream",
     "text": [
      "Using TensorFlow backend.\n"
     ]
    }
   ],
   "source": [
    "from keras import Input, layers\n",
    "\n",
    "input_tensor = Input(shape=(32,))\n",
    "dense = layers.Dense(32,activation='relu')\n",
    "\n",
    "output_tensor = dense(input_tensor)"
   ]
  },
  {
   "cell_type": "code",
   "execution_count": 3,
   "metadata": {},
   "outputs": [
    {
     "name": "stdout",
     "output_type": "stream",
     "text": [
      "Model: \"model_1\"\n",
      "_________________________________________________________________\n",
      "Layer (type)                 Output Shape              Param #   \n",
      "=================================================================\n",
      "input_1 (InputLayer)         (None, 32)                0         \n",
      "_________________________________________________________________\n",
      "dense_5 (Dense)              (None, 32)                1056      \n",
      "_________________________________________________________________\n",
      "dense_6 (Dense)              (None, 32)                1056      \n",
      "_________________________________________________________________\n",
      "dense_7 (Dense)              (None, 10)                330       \n",
      "=================================================================\n",
      "Total params: 2,442\n",
      "Trainable params: 2,442\n",
      "Non-trainable params: 0\n",
      "_________________________________________________________________\n"
     ]
    }
   ],
   "source": [
    "from keras.models import Sequential, Model\n",
    "from keras import layers\n",
    "from keras import Input\n",
    "\n",
    "# Sequential 实现\n",
    "seq_model = Sequential()\n",
    "seq_model.add(layers.Dense(32,activation='relu',input_shape=(64,)))\n",
    "seq_model.add(layers.Dense(32,activation='relu'))\n",
    "seq_model.add(layers.Dense(10,activation='softmax'))\n",
    "\n",
    "# API实现\n",
    "x = layers.Dense(32,activation='relu')(input_tensor)\n",
    "x = layers.Dense(32,activation='relu')(x)\n",
    "output_tensor = layers.Dense(10,activation='softmax')(x)\n",
    "\n",
    "model = Model(input_tensor, output_tensor)\n",
    "\n",
    "model.summary()"
   ]
  },
  {
   "cell_type": "markdown",
   "metadata": {},
   "source": [
    "对这种Model实例进行编译、训练或评估时，其API与Sequential模型相同。"
   ]
  },
  {
   "cell_type": "code",
   "execution_count": 5,
   "metadata": {},
   "outputs": [
    {
     "name": "stdout",
     "output_type": "stream",
     "text": [
      "Epoch 1/10\n",
      "1000/1000 [==============================] - 2s 2ms/step - loss: 11.6783\n",
      "Epoch 2/10\n",
      "1000/1000 [==============================] - 0s 20us/step - loss: 12.0335\n",
      "Epoch 3/10\n",
      "1000/1000 [==============================] - 0s 26us/step - loss: 12.7626\n",
      "Epoch 4/10\n",
      "1000/1000 [==============================] - 0s 19us/step - loss: 14.0101\n",
      "Epoch 5/10\n",
      "1000/1000 [==============================] - 0s 18us/step - loss: 15.4453\n",
      "Epoch 6/10\n",
      "1000/1000 [==============================] - 0s 19us/step - loss: 16.8621\n",
      "Epoch 7/10\n",
      "1000/1000 [==============================] - 0s 17us/step - loss: 18.3077\n",
      "Epoch 8/10\n",
      "1000/1000 [==============================] - 0s 17us/step - loss: 19.9407\n",
      "Epoch 9/10\n",
      "1000/1000 [==============================] - 0s 18us/step - loss: 21.5687\n",
      "Epoch 10/10\n",
      "1000/1000 [==============================] - 0s 19us/step - loss: 23.3691\n",
      "1000/1000 [==============================] - 0s 48us/step\n"
     ]
    }
   ],
   "source": [
    "model.compile(optimizer='rmsprop',loss='categorical_crossentropy')\n",
    "\n",
    "import numpy as np\n",
    "x_train = np.random.random((1000,32))\n",
    "y_train = np.random.random((1000,10))\n",
    "\n",
    "model.fit(x_train,y_train,epochs=10,batch_size=128)\n",
    "\n",
    "score = model.evaluate(x_train,y_train)"
   ]
  },
  {
   "cell_type": "markdown",
   "metadata": {},
   "source": [
    "### 多输入模型\n",
    "函数式API可用于构建具有多个输入的模型。通常情况下，这种模型会在某一时刻用一个组合多个张量的层将不同的输入分支合并，张量组合方式可能是相加、连接等。"
   ]
  },
  {
   "cell_type": "code",
   "execution_count": 12,
   "metadata": {},
   "outputs": [],
   "source": [
    "from keras.models import Model\n",
    "from keras import layers\n",
    "from keras import Input\n",
    "\n",
    "text_vocabulary_size = 10000\n",
    "question_vocabulary_size = 10000\n",
    "answer_vocabulary_size = 10000\n",
    "\n",
    "text_input = Input(shape=(None,),dtype='int32',name='text')\n",
    "\n",
    "embedding_text = layers.Embedding(\n",
    "    text_vocabulary_size,64)(text_input)\n",
    "\n",
    "encoded_text = layers.LSTM(32)(embedding_text)\n",
    "\n",
    "question_input = Input(shape=(None,),\n",
    "                       dtype='int32',\n",
    "                       name='question')\n",
    "\n",
    "embedded_question = layers.Embedding(\n",
    "    question_vocabulary_size,32)(question_input)\n",
    "encoded_question = layers.LSTM(16)(embedded_question)\n",
    "\n",
    "concatenated = layers.concatenate([encoded_text,encoded_question],\n",
    "                                   axis=-1)\n",
    "\n",
    "answer = layers.Dense(answer_voacbulary_size,\n",
    "                      activation='softmax')(concatenated)\n",
    "\n",
    "model = Model([text_input,question_input],answer)\n",
    "model.compile(optimizer='rmsprop',\n",
    "              loss='categorical_crossentropy',\n",
    "              metrics=['acc'])"
   ]
  },
  {
   "cell_type": "code",
   "execution_count": 14,
   "metadata": {},
   "outputs": [
    {
     "name": "stderr",
     "output_type": "stream",
     "text": [
      "D:\\ProgramFile\\Anaconda\\lib\\site-packages\\tensorflow_core\\python\\framework\\indexed_slices.py:433: UserWarning: Converting sparse IndexedSlices to a dense Tensor of unknown shape. This may consume a large amount of memory.\n",
      "  \"Converting sparse IndexedSlices to a dense Tensor of unknown shape. \"\n"
     ]
    },
    {
     "name": "stdout",
     "output_type": "stream",
     "text": [
      "Epoch 1/10\n",
      "1000/1000 [==============================] - 2s 2ms/step - loss: 9.2103 - acc: 0.0010\n",
      "Epoch 2/10\n",
      "1000/1000 [==============================] - 1s 943us/step - loss: 9.1552 - acc: 0.0050\n",
      "Epoch 3/10\n",
      "1000/1000 [==============================] - 1s 939us/step - loss: 8.6704 - acc: 0.0000e+00\n",
      "Epoch 4/10\n",
      "1000/1000 [==============================] - 1s 915us/step - loss: 8.1842 - acc: 0.0030\n",
      "Epoch 5/10\n",
      "1000/1000 [==============================] - 1s 928us/step - loss: 7.8394 - acc: 0.0030\n",
      "Epoch 6/10\n",
      "1000/1000 [==============================] - 1s 923us/step - loss: 7.5869 - acc: 0.0030\n",
      "Epoch 7/10\n",
      "1000/1000 [==============================] - 1s 911us/step - loss: 7.4034 - acc: 0.0030\n",
      "Epoch 8/10\n",
      "1000/1000 [==============================] - 1s 911us/step - loss: 7.2716 - acc: 0.0030\n",
      "Epoch 9/10\n",
      "1000/1000 [==============================] - 1s 947us/step - loss: 7.1768 - acc: 0.0030\n",
      "Epoch 10/10\n",
      "1000/1000 [==============================] - 1s 935us/step - loss: 7.1080 - acc: 0.0030\n",
      "Epoch 1/10\n",
      "1000/1000 [==============================] - 1s 933us/step - loss: 7.0576 - acc: 0.0030\n",
      "Epoch 2/10\n",
      "1000/1000 [==============================] - 1s 933us/step - loss: 7.0200 - acc: 0.0030\n",
      "Epoch 3/10\n",
      "1000/1000 [==============================] - 1s 961us/step - loss: 6.9919 - acc: 0.0030\n",
      "Epoch 4/10\n",
      "1000/1000 [==============================] - 1s 975us/step - loss: 6.9712 - acc: 0.0030\n",
      "Epoch 5/10\n",
      "1000/1000 [==============================] - 1s 1ms/step - loss: 6.9549 - acc: 0.0030\n",
      "Epoch 6/10\n",
      "1000/1000 [==============================] - 1s 1ms/step - loss: 6.9430 - acc: 0.0030\n",
      "Epoch 7/10\n",
      "1000/1000 [==============================] - 1s 1ms/step - loss: 6.9334 - acc: 0.0030\n",
      "Epoch 8/10\n",
      "1000/1000 [==============================] - 1s 1ms/step - loss: 6.9265 - acc: 0.0030\n",
      "Epoch 9/10\n",
      "1000/1000 [==============================] - 1s 1ms/step - loss: 6.9210 - acc: 0.0030\n",
      "Epoch 10/10\n",
      "1000/1000 [==============================] - 1s 971us/step - loss: 6.9163 - acc: 0.0030\n"
     ]
    },
    {
     "data": {
      "text/plain": [
       "<keras.callbacks.callbacks.History at 0x1d603925a20>"
      ]
     },
     "execution_count": 14,
     "metadata": {},
     "output_type": "execute_result"
    }
   ],
   "source": [
    "import keras\n",
    "import numpy as np\n",
    "\n",
    "num_samples = 1000\n",
    "max_length = 100\n",
    "\n",
    "text = np.random.randint(1,text_vocabulary_size,\n",
    "                         size=(num_samples,max_length))\n",
    "question = np.random.randint(1,question_vocabulary_size,\n",
    "                             size=(num_samples,max_length))\n",
    "answers = np.random.randint(answer_vocabulary_size, size=\n",
    "                            (num_samples))\n",
    "\n",
    "answers = keras.utils.to_categorical(answers,\n",
    "                                     answer_vocabulary_size)\n",
    "\n",
    "model.fit([text,question],answers,epochs=10,batch_size=128)\n",
    "\n",
    "model.fit({'text':text,'question':question},answers,\n",
    "          epochs=10,batch_size=128)"
   ]
  },
  {
   "cell_type": "markdown",
   "metadata": {},
   "source": [
    "### 多输出模型\n",
    "![多输出模型](pictures/7-2.png)"
   ]
  },
  {
   "cell_type": "code",
   "execution_count": 16,
   "metadata": {},
   "outputs": [],
   "source": [
    "from keras import layers\n",
    "from keras import Input\n",
    "from keras.models import Model\n",
    "\n",
    "vocabulary_size = 50000\n",
    "num_income_groups = 10\n",
    "\n",
    "posts_inputs = Input(shape=(None,),dtype='int32',name='posts')\n",
    "embedded_posts = layers.Embedding(256,vocabulary_size)(posts_inputs)\n",
    "\n",
    "x = layers.Conv1D(128,5,activation='relu')(embedded_posts)\n",
    "x = layers.MaxPooling1D(5)(x)\n",
    "x = layers.Conv1D(256,5,activation='relu')(x)\n",
    "x = layers.Conv1D(256,5,activation='relu')(x)\n",
    "x = layers.MaxPooling1D(5)(x)\n",
    "x = layers.Conv1D(256,5,activation='relu')(x)\n",
    "x = layers.Conv1D(256,5,activation='relu')(x)\n",
    "x = layers.GlobalMaxPooling1D()(x)\n",
    "x = layers.Dense(128,activation='relu')(x)\n",
    "\n",
    "age_prediction = layers.Dense(1,name='age')(x)\n",
    "income_prediction = layers.Dense(num_income_groups,\n",
    "                                 activation='softmax',\n",
    "                                 name='income')(x)\n",
    "gender_prediction = layers.Dense(1,activation='sigmoid',\n",
    "                                 name='gender')(x)\n",
    "\n",
    "model = Model(posts_inputs,\n",
    "              [age_prediction,income_prediction,\n",
    "               gender_prediction])"
   ]
  },
  {
   "cell_type": "code",
   "execution_count": null,
   "metadata": {},
   "outputs": [],
   "source": []
  }
 ],
 "metadata": {
  "kernelspec": {
   "display_name": "Python 3",
   "language": "python",
   "name": "python3"
  },
  "language_info": {
   "codemirror_mode": {
    "name": "ipython",
    "version": 3
   },
   "file_extension": ".py",
   "mimetype": "text/x-python",
   "name": "python",
   "nbconvert_exporter": "python",
   "pygments_lexer": "ipython3",
   "version": "3.7.1"
  },
  "toc": {
   "base_numbering": 1,
   "nav_menu": {},
   "number_sections": true,
   "sideBar": true,
   "skip_h1_title": false,
   "title_cell": "Table of Contents",
   "title_sidebar": "Contents",
   "toc_cell": false,
   "toc_position": {},
   "toc_section_display": true,
   "toc_window_display": false
  }
 },
 "nbformat": 4,
 "nbformat_minor": 2
}
