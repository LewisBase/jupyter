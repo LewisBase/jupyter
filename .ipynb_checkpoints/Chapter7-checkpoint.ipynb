{
 "cells": [
  {
   "cell_type": "markdown",
   "metadata": {},
   "source": [
    "# 综合不同模型的组合学习\n",
    "\n",
    "本章内容主要涵盖下述几个方面：\n",
    "* 以多数票机制为基础做出预测\n",
    "* 使用套袋通过反复从训练集可重复地随即抽取样本组合减少过拟合\n",
    "* 利用激励，在从错误中学习地若学习者的基础上建立强大的模型"
   ]
  },
  {
   "cell_type": "markdown",
   "metadata": {},
   "source": [
    "## 集成学习\n",
    "\n",
    "__集成学习__的目标是组合不同的分类器，形成比单个分类器具有更好泛化性能的元分类器。\n",
    "\n",
    "本章将集中讨论最常见的基与__多数票机制__的集成方法。\n",
    "\n",
    "为了通过简单的多数票或相对多数票投票机制预测分类标签，可以把每个单独的分类器$C_j$预测的分类标签组合起来，然后选择分类标签$\\hat{y}$，从而得到的票做多的标签：\n",
    "\n",
    "$$\\hat{y}=mode{C_1(x),C_2(x),\\ldots,C_m(x)}$$\n",
    "\n",
    "假设所有$n$个基本分类器所面对的都是二元分类任务，错误率$\\varepsilon$相同。另外，假设分类器都是独立的而且错误率互不相干。在这些假设条件下，可以直接把基本分类器集成的错误率表达为二项式分布的概率质量函数：\n",
    "\n",
    "$$P(y\\ge k)=\\sum_k^n C_k^n \\varepsilon^k (1-\\varepsilon)^{n-k}=\\varepsilon_{ensemble}$$"
   ]
  },
  {
   "cell_type": "code",
   "execution_count": 12,
   "metadata": {},
   "outputs": [
    {
     "data": {
      "text/plain": [
       "0.03432750701904297"
      ]
     },
     "execution_count": 12,
     "metadata": {},
     "output_type": "execute_result"
    }
   ],
   "source": [
    "from scipy.special import comb\n",
    "import math\n",
    "def ensemble_error(n_classifier, error):\n",
    "    k_start = int(math.ceil(n_classifier / 2.))\n",
    "    probs = [comb(n_classifier,k) * \n",
    "             error**k * \n",
    "             (1-error)**(n_classifier - k)\n",
    "             for k in range(k_start, n_classifier+1)]\n",
    "    return sum(probs)\n",
    "\n",
    "ensemble_error(n_classifier=11, error=0.25)"
   ]
  },
  {
   "cell_type": "markdown",
   "metadata": {},
   "source": [
    "在实现了ensemble_error函数后，可以计算从0.0到1.0的范围内内的不同集成错误率，并绘图。\n",
    "\n",
    "只要基本分类器的性能优于随机猜想（$\\varepsilon < 0.5$），集成分类器的错误率总是比单一基本分类器的错误率要低。"
   ]
  },
  {
   "cell_type": "code",
   "execution_count": 13,
   "metadata": {},
   "outputs": [
    {
     "data": {
      "image/png": "[encoded data removed]",
      "text/plain": [
       "<Figure size 432x288 with 1 Axes>"
      ]
     },
     "metadata": {
      "needs_background": "light"
     },
     "output_type": "display_data"
    }
   ],
   "source": [
    "%matplotlib inline\n",
    "import numpy as np\n",
    "import matplotlib.pyplot as plt\n",
    "error_range = np.arange(0.0,1.01,0.01)\n",
    "ens_error = [ensemble_error(n_classifier=11,error=error)\n",
    "             for error in error_range]\n",
    "plt.plot(error_range,ens_error,\n",
    "         label='Ensemble error',\n",
    "         linewidth=2)\n",
    "plt.plot(error_range,error_range,\n",
    "         linestyle='--',label='Base error',\n",
    "         linewidth=2)\n",
    "plt.xlabel('Base error')\n",
    "plt.ylabel('Base/Ensemble error')\n",
    "plt.legend(loc='upper left')\n",
    "plt.grid(alpha=0.5)\n",
    "plt.show()"
   ]
  },
  {
   "cell_type": "markdown",
   "metadata": {},
   "source": [
    "## 采用多数票机制的集成分类器\n",
    "\n",
    "### 实现基于多数票的简单分类器\n",
    "\n",
    "本节将要实现的算法可以把不同的分类算法及其各自相应的权重组合起来。目标是建立一个更强大的超级分类器，以平衡单个分类器在特定数据集上的弱点。可以利用更精确的数学语言把加权多数票的逻辑表示如下：\n",
    "\n",
    "$$\\hat{y}=\\arg \\max\\limits_i \\sum_{j=1}^m w_j \\chi_A(C_j(x)=i)$$\n",
    "\n",
    "这里$w_j$是与基本分类器$C_j$相关的权重，$\\hat{y}$是分类标签的预测结果，$\\chi_A$是特性函数$[C_j(x)=i \\in A]$，$A$为独立分类标签的集合。对于相同权重，可以把该方程简化为：\n",
    "\n",
    "$$\\hat{y}=mode {C_1(x),C_2(x),\\ldots,C_m(x)}$$\n",
    "\n",
    "可以用Numpy的argmax和bincount函数将加权大多数票概念翻译成Python代码"
   ]
  },
  {
   "cell_type": "code",
   "execution_count": 14,
   "metadata": {},
   "outputs": [
    {
     "data": {
      "text/plain": [
       "1"
      ]
     },
     "execution_count": 14,
     "metadata": {},
     "output_type": "execute_result"
    }
   ],
   "source": [
    "import numpy as np\n",
    "np.argmax(np.bincount([0,0,1],\n",
    "          weights=[0.2,0.2,0.6]))"
   ]
  },
  {
   "cell_type": "markdown",
   "metadata": {},
   "source": [
    "如果集成分类预测的够准确，用预测的分类概率代替分类标签进行大多数票表决是有用的。\n",
    "\n",
    "$$\\hat{y}=\\arg\\max\\limits_i\\sum_{j=1}^mw_jp_{ij}$$\n",
    "\n",
    "这里，$p_{ij}$为第$j$个分类器对分类标签$i$预测的概率。"
   ]
  },
  {
   "cell_type": "code",
   "execution_count": 15,
   "metadata": {},
   "outputs": [
    {
     "data": {
      "text/plain": [
       "0"
      ]
     },
     "execution_count": 15,
     "metadata": {},
     "output_type": "execute_result"
    }
   ],
   "source": [
    "ex = np.array([[0.9,0.1],\n",
    "               [0.8,0.2],\n",
    "               [0.4,0.6]])\n",
    "p = np.average(ex,axis=0,weights=[0.2,0.2,0.6])\n",
    "p\n",
    "np.argmax(p)"
   ]
  },
  {
   "cell_type": "code",
   "execution_count": 31,
   "metadata": {},
   "outputs": [],
   "source": [
    "from sklearn.base import BaseEstimator\n",
    "from sklearn.base import ClassifierMixin\n",
    "from sklearn.preprocessing import LabelEncoder\n",
    "from sklearn.externals import six\n",
    "from sklearn.base import clone\n",
    "from sklearn.pipeline import _name_estimators\n",
    "import numpy as np\n",
    "import operator\n",
    "\n",
    "class MajorityVoteClassifier(BaseEstimator,\n",
    "                              ClassifierMixin):\n",
    "    \"\"\" A majority vote ensemble classifier\n",
    "    \n",
    "    Parameters\n",
    "    ----------\n",
    "    classifiers : array-like, shape = [n_classifiers]\n",
    "        Different classifiers for the ensemble\n",
    "    vote : str, {'classlabel','probability'}\n",
    "        Default: 'classlabel'\n",
    "        If 'classlabel' the prediction is based on\n",
    "        the argmax of class labels. Else if\n",
    "        'probability', the argmax of the sum of\n",
    "        probability is used to predict the class label\n",
    "        (recommended for calibrated classifiers).\n",
    "    weights : array-like, shape = [n_classifiers]\n",
    "        Optional, default: None\n",
    "        If a list if 'int' or 'float' values are\n",
    "        provided, the classifiers are weighted by\n",
    "        importance; Uses uniform weights if 'weights=None'.\n",
    "    \"\"\"\n",
    "    def __init__(self,classifiers,\n",
    "                  vote='classlabel',weights=None):\n",
    "        self.classifiers = classifiers\n",
    "        self.named_classifiers = {key: value for\n",
    "                                  key, value in\n",
    "                                  _name_estimators(classifiers)}\n",
    "        self.vote = vote\n",
    "        self.weights = weights\n",
    "        \n",
    "    def fit(self,X,y):\n",
    "        \"\"\"Fit classifiers.\n",
    "        \n",
    "        Parameters\n",
    "        ----------\n",
    "        X : {array-like, spares matrix},\n",
    "            shape = [n_samples, n_features]\n",
    "            Matrix of training samples.\n",
    "        y : array-like, shape = [n_features]\n",
    "            Vecor of target class labels.\n",
    "            \n",
    "        Returns\n",
    "        ----------\n",
    "        self : object\n",
    "        \"\"\" \n",
    "        # Use LabelEncoder to ensure class labels start\n",
    "        # with 0, which is important for np.argmax\n",
    "        # call in self.predict\n",
    "        self.lablenc_ = LabelEncoder()\n",
    "        self.lablenc_.fit(y)\n",
    "        self.classes_ = self.lablenc_.classes_\n",
    "        self.classifiers_ = []\n",
    "        for clf in self.classifiers:\n",
    "            fitted_clf = clone(clf).fit(X,\n",
    "                                self.lablenc_.transform(y))\n",
    "            self.classifiers_.append(fitted_clf)\n",
    "        return self\n",
    "    \n",
    "    def predict(self,X):\n",
    "        \"\"\" Predict class labels for X.\n",
    "        \n",
    "        Parameters\n",
    "        ----------\n",
    "        X : {array-like, sparse matrix},\n",
    "            Shape = [n_samples, n_features]\n",
    "            Matrix of training samples.\n",
    "        \n",
    "        Returns\n",
    "        ----------\n",
    "        maj_vote : array-like, shape = [n_samples]\n",
    "            Predicted class labels.\n",
    "        \"\"\"\n",
    "        if self.vote == 'probability':\n",
    "            maj_vote = np.argmax(self.predic_proba(X),\n",
    "                                 axis=1)\n",
    "        else: # 'classlabel' vote\n",
    "            # Collect results from clf.predict calls\n",
    "            predictions = np.asarray([clf.predict(X)\n",
    "                                      for clf in\n",
    "                                      self.classifiers_]).T\n",
    "            maj_vote = np.apply_along_axis(\n",
    "                        lambda x:\n",
    "                        np.argmax(np.bincount(x,\n",
    "                                  weights=self.weights)),\n",
    "                        axis=1,\n",
    "                        arr=predictions)\n",
    "        maj_vote = self.lablenc_.inverse_transform(maj_vote)\n",
    "        return maj_vote\n",
    "    \n",
    "    def predict_proba(self,X):\n",
    "        \"\"\" Predict class probabilities for X.\n",
    "        \n",
    "        Parameters\n",
    "        ----------\n",
    "        X : {array-like, sparese matrix},\n",
    "            shape = {n_samples, n_features}\n",
    "            Training vectors, where n_samples is\n",
    "            the number of samples and\n",
    "            n_features is the number of features.\n",
    "            \n",
    "        Returns\n",
    "        ----------\n",
    "        avg_proba : array-like,\n",
    "            shape = [n_samples, n_classes]\n",
    "            Weighted average probability for\n",
    "            each class per sample.\n",
    "        \"\"\"\n",
    "        probas = np.asarray([clf.predict_proba(X)\n",
    "                             for clf in self.classifiers_])\n",
    "        avg_proba = np.average(probas,\n",
    "                               axis=0,weights=self.weights)\n",
    "        return avg_proba\n",
    "    \n",
    "    def get_params(self,deep=True):\n",
    "        \"\"\"Get classifier parameteer names for GridSearch\"\"\"\n",
    "        if not deep:\n",
    "            return super(MajorityVoteClassifier,\n",
    "                          self).get_params(deep=False)\n",
    "        else:\n",
    "            out = self.named_classifiers.copy()\n",
    "            for name, step in\\\n",
    "                    six.iteritems(self.named_classifiers):\n",
    "                for key, value in six.iteritems(\n",
    "                    step.get_params(deep=True)):\n",
    "                    out['%s_%s' % (name,key)] = value\n",
    "        return out"
   ]
  },
  {
   "cell_type": "markdown",
   "metadata": {},
   "source": [
    "这里定义了我们自己修改后的get_params方法来使用_name_estimators函数访问集成分类器中每个成员分类器的参数。这可能看似复杂，但却特别有用。特别是在以后的章节中用网格搜索寻找调优的超参数时。"
   ]
  },
  {
   "cell_type": "markdown",
   "metadata": {},
   "source": [
    "### 用多数票原则进行预测"
   ]
  },
  {
   "cell_type": "code",
   "execution_count": 32,
   "metadata": {},
   "outputs": [],
   "source": [
    "from sklearn import datasets\n",
    "from sklearn.model_selection import train_test_split\n",
    "from sklearn.preprocessing import StandardScaler\n",
    "from sklearn.preprocessing import LabelEncoder\n",
    "iris = datasets.load_iris()\n",
    "X,y = iris.data[50:,[1,2]],iris.target[50:]\n",
    "le = LabelEncoder()\n",
    "y = le.fit_transform(y)\n",
    "\n",
    "X_train,X_test,y_train,y_test = \\\n",
    "        train_test_split(X,y,\n",
    "                         test_size=0.5,\n",
    "                         random_state=1,\n",
    "                         stratify=y)"
   ]
  },
  {
   "cell_type": "markdown",
   "metadata": {},
   "source": [
    "现在将使用训练集训练三种不同分类器：\n",
    "* 逻辑回归分类器\n",
    "* 决策树分类器\n",
    "* k-近邻分类器\n",
    "\n",
    "在将它们构建成分类器之前，先通过对训练集进行10次交叉验证以评估每个分类器模型的性能"
   ]
  },
  {
   "cell_type": "code",
   "execution_count": 33,
   "metadata": {},
   "outputs": [
    {
     "name": "stdout",
     "output_type": "stream",
     "text": [
      "10-fold cross validation:\n",
      "\n",
      "ROC AUC: 0.87 (+/- 0.17) [Logistic regression]\n",
      "ROC AUC: 0.89 (+/- 0.16) [Decision tree]\n",
      "ROC AUC: 0.88 (+/- 0.15) [KNN]\n"
     ]
    }
   ],
   "source": [
    "from sklearn.model_selection import cross_val_score\n",
    "from sklearn.linear_model import LogisticRegression\n",
    "from sklearn.tree import DecisionTreeClassifier\n",
    "from sklearn.neighbors import KNeighborsClassifier\n",
    "from sklearn.pipeline import Pipeline\n",
    "import numpy as np\n",
    "\n",
    "clf1 = LogisticRegression(penalty='l2',\n",
    "                          C=0.001,\n",
    "                          solver='lbfgs',\n",
    "                          random_state=1)\n",
    "clf2 = DecisionTreeClassifier(max_depth=1,\n",
    "                              criterion='entropy',\n",
    "                              random_state=0)\n",
    "clf3 = KNeighborsClassifier(n_neighbors=1,\n",
    "                            p=2,\n",
    "                            metric='minkowski')\n",
    "\n",
    "pipe1 = Pipeline([['sc',StandardScaler()],\n",
    "                  ['clf',clf1]])\n",
    "pipe3 = Pipeline([['sc',StandardScaler()],\n",
    "                  ['clf',clf3]])\n",
    "clf_labels = ['Logistic regression','Decision tree','KNN']\n",
    "print('10-fold cross validation:\\n')\n",
    "for clf, label in zip([pipe1,clf2,pipe3],clf_labels):\n",
    "    scores = cross_val_score(estimator=clf,\n",
    "                             X=X_train,\n",
    "                             y=y_train,\n",
    "                             cv=10,\n",
    "                             scoring='roc_auc')\n",
    "    print('ROC AUC: %0.2f (+/- %0.2f) [%s]'\n",
    "          % (scores.mean(),scores.std(),label))"
   ]
  },
  {
   "cell_type": "markdown",
   "metadata": {},
   "source": [
    "与决策树相比，逻辑回归和k近邻算法都是比例尺度可变的，采用标准化特征是一个好习惯。\n",
    "\n",
    "现在开始更精彩的部分，在MajorityVoteClassifier类中集成独立的分类器进行多数票决策"
   ]
  },
  {
   "cell_type": "code",
   "execution_count": 34,
   "metadata": {},
   "outputs": [
    {
     "name": "stdout",
     "output_type": "stream",
     "text": [
      "Accuracy: 0.87 (+/- 0.17) [Logistic regression]\n",
      "Accuracy: 0.89 (+/- 0.16) [Decision tree]\n",
      "Accuracy: 0.88 (+/- 0.15) [KNN]\n",
      "Accuracy: 0.94 (+/- 0.13) [Majority voting]\n"
     ]
    }
   ],
   "source": [
    "mv_clf = MajorityVoteClassifier(\n",
    "                classifiers=[pipe1,clf2,pipe3])\n",
    "clf_labels += ['Majority voting']\n",
    "all_clf = [pipe1,clf2,pipe3,mv_clf]\n",
    "for clf, label in zip(all_clf,clf_labels):\n",
    "    scores = cross_val_score(estimator=clf,\n",
    "                             X=X_train,\n",
    "                             y=y_train,\n",
    "                             cv=10,\n",
    "                             scoring='roc_auc')\n",
    "    print('Accuracy: %0.2f (+/- %0.2f) [%s]'\n",
    "              % (scores.mean(),scores.std(),label))"
   ]
  },
  {
   "cell_type": "markdown",
   "metadata": {},
   "source": [
    "### 评估和优化集成分类器"
   ]
  },
  {
   "cell_type": "code",
   "execution_count": 35,
   "metadata": {},
   "outputs": [
    {
     "data": {
      "image/png": "[encoded data removed]",
      "text/plain": [
       "<Figure size 432x288 with 1 Axes>"
      ]
     },
     "metadata": {
      "needs_background": "light"
     },
     "output_type": "display_data"
    }
   ],
   "source": [
    "from sklearn.metrics import roc_curve\n",
    "from sklearn.metrics import auc\n",
    "colors = ['black','orange','blue','green']\n",
    "linestyles = [':','--','-.','-']\n",
    "for clf,label,clr,ls\\\n",
    "        in zip(all_clf,clf_labels,colors,linestyles):\n",
    "    # assuming the label of the positive class is l\n",
    "    y_pred = clf.fit(X_train,\n",
    "                     y_train).predict_proba(X_test)[:,1]\n",
    "    fpr, tpr, thresholds = roc_curve(y_true=y_test,\n",
    "                                    y_score=y_pred)\n",
    "    roc_auc = auc(x=fpr,y=tpr)\n",
    "    plt.plot(fpr,tpr,\n",
    "             color=clr,\n",
    "             linestyle=ls,\n",
    "             label='%s (auc = %.2f)' % (label, roc_auc))\n",
    "plt.legend(loc='lower right')\n",
    "plt.plot([0,1],[0,1],\n",
    "         linestyle='--',\n",
    "         color='gray',\n",
    "         linewidth=2)\n",
    "plt.xlim([-0.1,1.1])\n",
    "plt.ylim([-0.1,1.1])\n",
    "plt.grid(alpha=0.5)\n",
    "plt.xlabel('False positive rate (FPR)')\n",
    "plt.ylabel('True positive rate (TPR)')\n",
    "plt.show()"
   ]
  },
  {
   "cell_type": "code",
   "execution_count": 37,
   "metadata": {},
   "outputs": [
    {
     "data": {
      "image/png": "[encoded data removed]",
      "text/plain": [
       "<Figure size 504x360 with 4 Axes>"
      ]
     },
     "metadata": {
      "needs_background": "light"
     },
     "output_type": "display_data"
    }
   ],
   "source": [
    "sc = StandardScaler()\n",
    "X_train_std = sc.fit_transform(X_train)\n",
    "from itertools import product\n",
    "x_min = X_train_std[:,0].min() - 1\n",
    "x_max = X_train_std[:,0].max() + 1\n",
    "y_min = X_train_std[:,1].min() - 1\n",
    "y_max = X_train_std[:,1].max() + 1\n",
    "xx, yy = np.meshgrid(np.arange(x_min,x_max,0.1),\n",
    "                     np.arange(y_min,y_max,0.1))\n",
    "f, axarr = plt.subplots(nrows=2,ncols=2,\n",
    "                        sharex='col',\n",
    "                        sharey='row',\n",
    "                        figsize=(7,5))\n",
    "for idx, clf, tt in zip(product([0,1],[0,1]),\n",
    "                        all_clf,clf_labels):\n",
    "    clf.fit(X_train_std,y_train)\n",
    "    Z = clf.predict(np.c_[xx.ravel(),yy.ravel()])\n",
    "    Z = Z.reshape(xx.shape)\n",
    "    axarr[idx[0], idx[1]].contourf(xx,yy,Z,alpha=0.3)\n",
    "    axarr[idx[0],idx[1]].scatter(X_train_std[y_train==0,0],\n",
    "                                 X_train_std[y_train==0,1],\n",
    "                                 c='blue',\n",
    "                                 marker='^',\n",
    "                                 s=50)\n",
    "    axarr[idx[0],idx[1]].scatter(X_train_std[y_train==1,0],\n",
    "                                 X_train_std[y_train==1,1],\n",
    "                                 c='green',\n",
    "                                 marker='o',\n",
    "                                 s=50)\n",
    "    axarr[idx[0], idx[1]].set_title(tt)\n",
    "plt.text(-3.5,-4.5,\n",
    "         s='Sepal width [standardized]',\n",
    "         ha='center',va='center',fontsize=12)\n",
    "plt.text(-12.5,4.5,\n",
    "         s='Petal length [standardized]',\n",
    "         ha='center',va='center',\n",
    "         fontsize=12,rotation=90)\n",
    "plt.show()"
   ]
  },
  {
   "cell_type": "code",
   "execution_count": 38,
   "metadata": {},
   "outputs": [
    {
     "data": {
      "text/plain": [
       "{'pipeline-1': Pipeline(memory=None,\n",
       "          steps=[('sc',\n",
       "                  StandardScaler(copy=True, with_mean=True, with_std=True)),\n",
       "                 ['clf',\n",
       "                  LogisticRegression(C=0.001, class_weight=None, dual=False,\n",
       "                                     fit_intercept=True, intercept_scaling=1,\n",
       "                                     l1_ratio=None, max_iter=100,\n",
       "                                     multi_class='warn', n_jobs=None,\n",
       "                                     penalty='l2', random_state=1,\n",
       "                                     solver='lbfgs', tol=0.0001, verbose=0,\n",
       "                                     warm_start=False)]],\n",
       "          verbose=False),\n",
       " 'decisiontreeclassifier': DecisionTreeClassifier(class_weight=None, criterion='entropy', max_depth=1,\n",
       "                        max_features=None, max_leaf_nodes=None,\n",
       "                        min_impurity_decrease=0.0, min_impurity_split=None,\n",
       "                        min_samples_leaf=1, min_samples_split=2,\n",
       "                        min_weight_fraction_leaf=0.0, presort=False,\n",
       "                        random_state=0, splitter='best'),\n",
       " 'pipeline-2': Pipeline(memory=None,\n",
       "          steps=[('sc',\n",
       "                  StandardScaler(copy=True, with_mean=True, with_std=True)),\n",
       "                 ['clf',\n",
       "                  KNeighborsClassifier(algorithm='auto', leaf_size=30,\n",
       "                                       metric='minkowski', metric_params=None,\n",
       "                                       n_jobs=None, n_neighbors=1, p=2,\n",
       "                                       weights='uniform')]],\n",
       "          verbose=False),\n",
       " 'pipeline-1_memory': None,\n",
       " 'pipeline-1_steps': [('sc',\n",
       "   StandardScaler(copy=True, with_mean=True, with_std=True)),\n",
       "  ['clf',\n",
       "   LogisticRegression(C=0.001, class_weight=None, dual=False, fit_intercept=True,\n",
       "                      intercept_scaling=1, l1_ratio=None, max_iter=100,\n",
       "                      multi_class='warn', n_jobs=None, penalty='l2',\n",
       "                      random_state=1, solver='lbfgs', tol=0.0001, verbose=0,\n",
       "                      warm_start=False)]],\n",
       " 'pipeline-1_verbose': False,\n",
       " 'pipeline-1_sc': StandardScaler(copy=True, with_mean=True, with_std=True),\n",
       " 'pipeline-1_clf': LogisticRegression(C=0.001, class_weight=None, dual=False, fit_intercept=True,\n",
       "                    intercept_scaling=1, l1_ratio=None, max_iter=100,\n",
       "                    multi_class='warn', n_jobs=None, penalty='l2',\n",
       "                    random_state=1, solver='lbfgs', tol=0.0001, verbose=0,\n",
       "                    warm_start=False),\n",
       " 'pipeline-1_sc__copy': True,\n",
       " 'pipeline-1_sc__with_mean': True,\n",
       " 'pipeline-1_sc__with_std': True,\n",
       " 'pipeline-1_clf__C': 0.001,\n",
       " 'pipeline-1_clf__class_weight': None,\n",
       " 'pipeline-1_clf__dual': False,\n",
       " 'pipeline-1_clf__fit_intercept': True,\n",
       " 'pipeline-1_clf__intercept_scaling': 1,\n",
       " 'pipeline-1_clf__l1_ratio': None,\n",
       " 'pipeline-1_clf__max_iter': 100,\n",
       " 'pipeline-1_clf__multi_class': 'warn',\n",
       " 'pipeline-1_clf__n_jobs': None,\n",
       " 'pipeline-1_clf__penalty': 'l2',\n",
       " 'pipeline-1_clf__random_state': 1,\n",
       " 'pipeline-1_clf__solver': 'lbfgs',\n",
       " 'pipeline-1_clf__tol': 0.0001,\n",
       " 'pipeline-1_clf__verbose': 0,\n",
       " 'pipeline-1_clf__warm_start': False,\n",
       " 'decisiontreeclassifier_class_weight': None,\n",
       " 'decisiontreeclassifier_criterion': 'entropy',\n",
       " 'decisiontreeclassifier_max_depth': 1,\n",
       " 'decisiontreeclassifier_max_features': None,\n",
       " 'decisiontreeclassifier_max_leaf_nodes': None,\n",
       " 'decisiontreeclassifier_min_impurity_decrease': 0.0,\n",
       " 'decisiontreeclassifier_min_impurity_split': None,\n",
       " 'decisiontreeclassifier_min_samples_leaf': 1,\n",
       " 'decisiontreeclassifier_min_samples_split': 2,\n",
       " 'decisiontreeclassifier_min_weight_fraction_leaf': 0.0,\n",
       " 'decisiontreeclassifier_presort': False,\n",
       " 'decisiontreeclassifier_random_state': 0,\n",
       " 'decisiontreeclassifier_splitter': 'best',\n",
       " 'pipeline-2_memory': None,\n",
       " 'pipeline-2_steps': [('sc',\n",
       "   StandardScaler(copy=True, with_mean=True, with_std=True)),\n",
       "  ['clf',\n",
       "   KNeighborsClassifier(algorithm='auto', leaf_size=30, metric='minkowski',\n",
       "                        metric_params=None, n_jobs=None, n_neighbors=1, p=2,\n",
       "                        weights='uniform')]],\n",
       " 'pipeline-2_verbose': False,\n",
       " 'pipeline-2_sc': StandardScaler(copy=True, with_mean=True, with_std=True),\n",
       " 'pipeline-2_clf': KNeighborsClassifier(algorithm='auto', leaf_size=30, metric='minkowski',\n",
       "                      metric_params=None, n_jobs=None, n_neighbors=1, p=2,\n",
       "                      weights='uniform'),\n",
       " 'pipeline-2_sc__copy': True,\n",
       " 'pipeline-2_sc__with_mean': True,\n",
       " 'pipeline-2_sc__with_std': True,\n",
       " 'pipeline-2_clf__algorithm': 'auto',\n",
       " 'pipeline-2_clf__leaf_size': 30,\n",
       " 'pipeline-2_clf__metric': 'minkowski',\n",
       " 'pipeline-2_clf__metric_params': None,\n",
       " 'pipeline-2_clf__n_jobs': None,\n",
       " 'pipeline-2_clf__n_neighbors': 1,\n",
       " 'pipeline-2_clf__p': 2,\n",
       " 'pipeline-2_clf__weights': 'uniform'}"
      ]
     },
     "execution_count": 38,
     "metadata": {},
     "output_type": "execute_result"
    }
   ],
   "source": [
    "mv_clf.get_params()"
   ]
  },
  {
   "cell_type": "markdown",
   "metadata": {},
   "source": [
    "## 套袋——基与导引样本构建分类器集成\n",
    "\n",
    "套袋是一种集成学习技术，与上一节实现的MajorityVoteClassifier紧密相关。然而，我们并没有使用相同的训练集来拟合组合中的各个分类器，而式从初始训练集中抽取自举样本（随机可替换样本），这就是为什么套袋也被称为引导聚合。"
   ]
  },
  {
   "cell_type": "markdown",
   "metadata": {},
   "source": [
    "### 套袋简介"
   ]
  },
  {
   "cell_type": "markdown",
   "metadata": {},
   "source": [
    "### 应用套袋技术对葡萄酒数据集中的样本分类"
   ]
  },
  {
   "cell_type": "code",
   "execution_count": 39,
   "metadata": {},
   "outputs": [],
   "source": [
    "import pandas as pd\n",
    "df_wine = pd.read_csv('wine.data',header=None)\n",
    "df_wine.columns = ['Class label','Alcohol',\n",
    "                   'Malic acid','Ash',\n",
    "                   'Alcalinity of ash',\n",
    "                   'Magnesium','Total phenols',\n",
    "                   'Flavanoids','Nonflavanoid phenols',\n",
    "                   'Proanthocyanins',\n",
    "                   'Color intensity','Hue',\n",
    "                   'OD280/OD315 of diluted wines',\n",
    "                   'Proline']\n",
    "df_wine = df_wine[df_wine['Class label'] != 1]\n",
    "y = df_wine['Class label'].values\n",
    "X = df_wine[['Alcohol',\n",
    "             'OD280/OD315 of diluted wines']].values"
   ]
  },
  {
   "cell_type": "markdown",
   "metadata": {},
   "source": [
    "用二进制为分类标签编码，让后按8：2的比例吧数据集分裂成训练集和测试集"
   ]
  },
  {
   "cell_type": "code",
   "execution_count": 43,
   "metadata": {},
   "outputs": [],
   "source": [
    "from sklearn.preprocessing import LabelEncoder\n",
    "from sklearn.model_selection import train_test_split\n",
    "le = LabelEncoder()\n",
    "y = le.fit_transform(y)\n",
    "X_train,X_test,y_train,y_test =\\\n",
    "    train_test_split(X,y,\n",
    "                     test_size=0.2,\n",
    "                     random_state=1,\n",
    "                     stratify=y)"
   ]
  },
  {
   "cell_type": "markdown",
   "metadata": {},
   "source": [
    "scikit-learn已经实现了BaggingClassifier算法，可以从ensemble子模块导入。\n",
    "\n",
    "这里将用修剪决策树作为基本分类器并创建一个有500棵决策树的组合，这些决策树将拟合训练集中的不同引导样本。"
   ]
  },
  {
   "cell_type": "code",
   "execution_count": 44,
   "metadata": {},
   "outputs": [],
   "source": [
    "from sklearn.ensemble import BaggingClassifier\n",
    "tree = DecisionTreeClassifier(criterion='entropy',\n",
    "                              random_state=1,\n",
    "                              max_depth=None)\n",
    "bag = BaggingClassifier(base_estimator=tree,\n",
    "                        n_estimators=500,\n",
    "                        max_samples=1.0,\n",
    "                        max_features=1.0,\n",
    "                        bootstrap=True,\n",
    "                        bootstrap_features=False,\n",
    "                        n_jobs=1,\n",
    "                        random_state=1)"
   ]
  },
  {
   "cell_type": "markdown",
   "metadata": {},
   "source": [
    "下一步计算模型在训练集和测试集上的预测准确率，以便对套袋分类器的性能和单一修剪决策树的性能进行比较："
   ]
  },
  {
   "cell_type": "code",
   "execution_count": 45,
   "metadata": {},
   "outputs": [
    {
     "name": "stdout",
     "output_type": "stream",
     "text": [
      "Decision tree train/test accuracies 1.000/0.833\n"
     ]
    }
   ],
   "source": [
    "from sklearn.metrics import accuracy_score\n",
    "tree = tree.fit(X_train,y_train)\n",
    "y_train_pred = tree.predict(X_train)\n",
    "y_test_pred = tree.predict(X_test)\n",
    "tree_train = accuracy_score(y_train,y_train_pred)\n",
    "tree_test = accuracy_score(y_test,y_test_pred)\n",
    "print('Decision tree train/test accuracies %.3f/%.3f'\n",
    "      % (tree_train,tree_test))"
   ]
  },
  {
   "cell_type": "markdown",
   "metadata": {},
   "source": [
    "\n",
    "基于下面显示的准确率，修剪决策树正确地预测了所有训练样本地分类标签。然而，测试准确率相当低，着表明模型存在高方差（过拟合）："
   ]
  },
  {
   "cell_type": "code",
   "execution_count": 47,
   "metadata": {},
   "outputs": [
    {
     "name": "stdout",
     "output_type": "stream",
     "text": [
      "Bagging train/test accuracies 1.000/0.917\n"
     ]
    }
   ],
   "source": [
    "bag = bag.fit(X_train,y_train)\n",
    "y_train_pred = bag.predict(X_train)\n",
    "y_test_pred = bag.predict(X_test)\n",
    "bag_train = accuracy_score(y_train,y_train_pred)\n",
    "bag_test = accuracy_score(y_test,y_test_pred)\n",
    "print('Bagging train/test accuracies %.3f/%.3f'\n",
    "      % (bag_train,bag_test))"
   ]
  },
  {
   "cell_type": "markdown",
   "metadata": {},
   "source": [
    "虽然在训练集上，决策树和套袋分类器地训练器地训练准确度相似（都是100%），但是可以看到，套袋分类器在测试集上估计地泛化性能略好。"
   ]
  },
  {
   "cell_type": "code",
   "execution_count": 48,
   "metadata": {},
   "outputs": [
    {
     "data": {
      "image/png": "[encoded data removed]",
      "text/plain": [
       "<Figure size 576x216 with 2 Axes>"
      ]
     },
     "metadata": {
      "needs_background": "light"
     },
     "output_type": "display_data"
    }
   ],
   "source": [
    "x_min = X_train[:,0].min() - 1\n",
    "x_max = X_train[:,0].max() + 1\n",
    "y_min = X_train[:,1].min() - 1\n",
    "y_max = X_train[:,1].max() + 1\n",
    "xx,yy = np.meshgrid(np.arange(x_min,x_max,0.1),\n",
    "                    np.arange(y_min,y_max,0.1))\n",
    "f, axarr = plt.subplots(nrows=1,ncols=2,\n",
    "                        sharex='col',\n",
    "                        sharey='row',\n",
    "                        figsize=(8,3))\n",
    "for idx, clf, tt in zip([0,1],\n",
    "                         [tree, bag],\n",
    "                         ['Decision tree','Bagging']):\n",
    "    clf.fit(X_train,y_train)\n",
    "    Z = clf.predict(np.c_[xx.ravel(),yy.ravel()])\n",
    "    Z = Z.reshape(xx.shape)\n",
    "    axarr[idx].contourf(xx,yy,Z,alpha=0.3)\n",
    "    axarr[idx].scatter(X_train[y_train==0,0],\n",
    "                       X_train[y_train==0,1],\n",
    "                       c='blue',marker='^')\n",
    "    axarr[idx].scatter(X_train[y_train==1,0],\n",
    "                       X_train[y_train==1,1],\n",
    "                       c='green',marker='o')\n",
    "    axarr[idx].set_title(tt)\n",
    "axarr[0].set_ylabel('Alcohol',fontsize=12)\n",
    "plt.text(10.2,-1.2,\n",
    "         s='OD280/OD315 of diluted wines',\n",
    "         ha='center',va='center',fontsize=12)\n",
    "plt.show()"
   ]
  },
  {
   "cell_type": "markdown",
   "metadata": {},
   "source": [
    "## 通过自适应增强来利用弱学习者"
   ]
  },
  {
   "cell_type": "code",
   "execution_count": null,
   "metadata": {},
   "outputs": [],
   "source": []
  }
 ],
 "metadata": {
  "kernelspec": {
   "display_name": "Python 3",
   "language": "python",
   "name": "python3"
  },
  "language_info": {
   "codemirror_mode": {
    "name": "ipython",
    "version": 3
   },
   "file_extension": ".py",
   "mimetype": "text/x-python",
   "name": "python",
   "nbconvert_exporter": "python",
   "pygments_lexer": "ipython3",
   "version": "3.7.4"
  },
  "toc": {
   "base_numbering": 1,
   "nav_menu": {},
   "number_sections": true,
   "sideBar": true,
   "skip_h1_title": false,
   "title_cell": "Table of Contents",
   "title_sidebar": "Contents",
   "toc_cell": false,
   "toc_position": {
    "height": "calc(100% - 180px)",
    "left": "10px",
    "top": "150px",
    "width": "384px"
   },
   "toc_section_display": true,
   "toc_window_display": true
  }
 },
 "nbformat": 4,
 "nbformat_minor": 2
}
